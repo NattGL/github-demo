{
 "cells": [
  {
   "cell_type": "code",
   "execution_count": 61,
   "metadata": {},
   "outputs": [],
   "source": [
    "import pandas.io.sql\n",
    "import pandas as pd\n",
    "from sklearn.model_selection import train_test_split\n",
    "from sklearn.linear_model import LogisticRegression"
   ]
  },
  {
   "cell_type": "markdown",
   "metadata": {},
   "source": [
    "Подключаемся к базе данных"
   ]
  },
  {
   "cell_type": "code",
   "execution_count": 2,
   "metadata": {
    "collapsed": true
   },
   "outputs": [],
   "source": [
    "import pyodbc \n",
    "conn = pyodbc.connect('Driver={SQL Server};'\n",
    "                      'Server=LAPTOP-KIBD4RBV;'\n",
    "                      'Database=AdventureWorks2017;'\n",
    "                      'Trusted_Connection=yes;')\n",
    "\n",
    "cursor = conn.cursor()"
   ]
  },
  {
   "cell_type": "code",
   "execution_count": 3,
   "metadata": {
    "collapsed": true
   },
   "outputs": [],
   "source": [
    "sql = 'SELECT * FROM AdventureWorks2017.Sales.SalesOrderHeader'"
   ]
  },
  {
   "cell_type": "markdown",
   "metadata": {},
   "source": [
    "Сохраняем данные"
   ]
  },
  {
   "cell_type": "code",
   "execution_count": 35,
   "metadata": {
    "collapsed": true
   },
   "outputs": [],
   "source": [
    "df = pandas.io.sql.read_sql_query(sql, conn)"
   ]
  },
  {
   "cell_type": "code",
   "execution_count": 36,
   "metadata": {},
   "outputs": [
    {
     "data": {
      "text/html": [
       "<div>\n",
       "<table border=\"1\" class=\"dataframe\">\n",
       "  <thead>\n",
       "    <tr style=\"text-align: right;\">\n",
       "      <th></th>\n",
       "      <th>SalesOrderID</th>\n",
       "      <th>RevisionNumber</th>\n",
       "      <th>OrderDate</th>\n",
       "      <th>DueDate</th>\n",
       "      <th>ShipDate</th>\n",
       "      <th>Status</th>\n",
       "      <th>OnlineOrderFlag</th>\n",
       "      <th>SalesOrderNumber</th>\n",
       "      <th>PurchaseOrderNumber</th>\n",
       "      <th>AccountNumber</th>\n",
       "      <th>...</th>\n",
       "      <th>CreditCardID</th>\n",
       "      <th>CreditCardApprovalCode</th>\n",
       "      <th>CurrencyRateID</th>\n",
       "      <th>SubTotal</th>\n",
       "      <th>TaxAmt</th>\n",
       "      <th>Freight</th>\n",
       "      <th>TotalDue</th>\n",
       "      <th>Comment</th>\n",
       "      <th>rowguid</th>\n",
       "      <th>ModifiedDate</th>\n",
       "    </tr>\n",
       "  </thead>\n",
       "  <tbody>\n",
       "    <tr>\n",
       "      <th>0</th>\n",
       "      <td>43659</td>\n",
       "      <td>8</td>\n",
       "      <td>2011-05-31</td>\n",
       "      <td>2011-06-12</td>\n",
       "      <td>2011-06-07</td>\n",
       "      <td>5</td>\n",
       "      <td>False</td>\n",
       "      <td>SO43659</td>\n",
       "      <td>PO522145787</td>\n",
       "      <td>10-4020-000676</td>\n",
       "      <td>...</td>\n",
       "      <td>16281.0</td>\n",
       "      <td>105041Vi84182</td>\n",
       "      <td>NaN</td>\n",
       "      <td>20565.6206</td>\n",
       "      <td>1971.5149</td>\n",
       "      <td>616.0984</td>\n",
       "      <td>23153.2339</td>\n",
       "      <td>None</td>\n",
       "      <td>79B65321-39CA-4115-9CBA-8FE0903E12E6</td>\n",
       "      <td>2011-06-07</td>\n",
       "    </tr>\n",
       "    <tr>\n",
       "      <th>1</th>\n",
       "      <td>43660</td>\n",
       "      <td>8</td>\n",
       "      <td>2011-05-31</td>\n",
       "      <td>2011-06-12</td>\n",
       "      <td>2011-06-07</td>\n",
       "      <td>5</td>\n",
       "      <td>False</td>\n",
       "      <td>SO43660</td>\n",
       "      <td>PO18850127500</td>\n",
       "      <td>10-4020-000117</td>\n",
       "      <td>...</td>\n",
       "      <td>5618.0</td>\n",
       "      <td>115213Vi29411</td>\n",
       "      <td>NaN</td>\n",
       "      <td>1294.2529</td>\n",
       "      <td>124.2483</td>\n",
       "      <td>38.8276</td>\n",
       "      <td>1457.3288</td>\n",
       "      <td>None</td>\n",
       "      <td>738DC42D-D03B-48A1-9822-F95A67EA7389</td>\n",
       "      <td>2011-06-07</td>\n",
       "    </tr>\n",
       "    <tr>\n",
       "      <th>2</th>\n",
       "      <td>43661</td>\n",
       "      <td>8</td>\n",
       "      <td>2011-05-31</td>\n",
       "      <td>2011-06-12</td>\n",
       "      <td>2011-06-07</td>\n",
       "      <td>5</td>\n",
       "      <td>False</td>\n",
       "      <td>SO43661</td>\n",
       "      <td>PO18473189620</td>\n",
       "      <td>10-4020-000442</td>\n",
       "      <td>...</td>\n",
       "      <td>1346.0</td>\n",
       "      <td>85274Vi6854</td>\n",
       "      <td>4.0</td>\n",
       "      <td>32726.4786</td>\n",
       "      <td>3153.7696</td>\n",
       "      <td>985.5530</td>\n",
       "      <td>36865.8012</td>\n",
       "      <td>None</td>\n",
       "      <td>D91B9131-18A4-4A11-BC3A-90B6F53E9D74</td>\n",
       "      <td>2011-06-07</td>\n",
       "    </tr>\n",
       "    <tr>\n",
       "      <th>3</th>\n",
       "      <td>43662</td>\n",
       "      <td>8</td>\n",
       "      <td>2011-05-31</td>\n",
       "      <td>2011-06-12</td>\n",
       "      <td>2011-06-07</td>\n",
       "      <td>5</td>\n",
       "      <td>False</td>\n",
       "      <td>SO43662</td>\n",
       "      <td>PO18444174044</td>\n",
       "      <td>10-4020-000227</td>\n",
       "      <td>...</td>\n",
       "      <td>10456.0</td>\n",
       "      <td>125295Vi53935</td>\n",
       "      <td>4.0</td>\n",
       "      <td>28832.5289</td>\n",
       "      <td>2775.1646</td>\n",
       "      <td>867.2389</td>\n",
       "      <td>32474.9324</td>\n",
       "      <td>None</td>\n",
       "      <td>4A1ECFC0-CC3A-4740-B028-1C50BB48711C</td>\n",
       "      <td>2011-06-07</td>\n",
       "    </tr>\n",
       "    <tr>\n",
       "      <th>4</th>\n",
       "      <td>43663</td>\n",
       "      <td>8</td>\n",
       "      <td>2011-05-31</td>\n",
       "      <td>2011-06-12</td>\n",
       "      <td>2011-06-07</td>\n",
       "      <td>5</td>\n",
       "      <td>False</td>\n",
       "      <td>SO43663</td>\n",
       "      <td>PO18009186470</td>\n",
       "      <td>10-4020-000510</td>\n",
       "      <td>...</td>\n",
       "      <td>4322.0</td>\n",
       "      <td>45303Vi22691</td>\n",
       "      <td>NaN</td>\n",
       "      <td>419.4589</td>\n",
       "      <td>40.2681</td>\n",
       "      <td>12.5838</td>\n",
       "      <td>472.3108</td>\n",
       "      <td>None</td>\n",
       "      <td>9B1E7A40-6AE0-4AD3-811C-A64951857C4B</td>\n",
       "      <td>2011-06-07</td>\n",
       "    </tr>\n",
       "  </tbody>\n",
       "</table>\n",
       "<p>5 rows × 26 columns</p>\n",
       "</div>"
      ],
      "text/plain": [
       "   SalesOrderID  RevisionNumber  OrderDate    DueDate   ShipDate  Status  \\\n",
       "0         43659               8 2011-05-31 2011-06-12 2011-06-07       5   \n",
       "1         43660               8 2011-05-31 2011-06-12 2011-06-07       5   \n",
       "2         43661               8 2011-05-31 2011-06-12 2011-06-07       5   \n",
       "3         43662               8 2011-05-31 2011-06-12 2011-06-07       5   \n",
       "4         43663               8 2011-05-31 2011-06-12 2011-06-07       5   \n",
       "\n",
       "  OnlineOrderFlag SalesOrderNumber PurchaseOrderNumber   AccountNumber  \\\n",
       "0           False          SO43659         PO522145787  10-4020-000676   \n",
       "1           False          SO43660       PO18850127500  10-4020-000117   \n",
       "2           False          SO43661       PO18473189620  10-4020-000442   \n",
       "3           False          SO43662       PO18444174044  10-4020-000227   \n",
       "4           False          SO43663       PO18009186470  10-4020-000510   \n",
       "\n",
       "       ...       CreditCardID  CreditCardApprovalCode  CurrencyRateID  \\\n",
       "0      ...            16281.0           105041Vi84182             NaN   \n",
       "1      ...             5618.0           115213Vi29411             NaN   \n",
       "2      ...             1346.0             85274Vi6854             4.0   \n",
       "3      ...            10456.0           125295Vi53935             4.0   \n",
       "4      ...             4322.0            45303Vi22691             NaN   \n",
       "\n",
       "     SubTotal     TaxAmt   Freight    TotalDue Comment  \\\n",
       "0  20565.6206  1971.5149  616.0984  23153.2339    None   \n",
       "1   1294.2529   124.2483   38.8276   1457.3288    None   \n",
       "2  32726.4786  3153.7696  985.5530  36865.8012    None   \n",
       "3  28832.5289  2775.1646  867.2389  32474.9324    None   \n",
       "4    419.4589    40.2681   12.5838    472.3108    None   \n",
       "\n",
       "                                rowguid  ModifiedDate  \n",
       "0  79B65321-39CA-4115-9CBA-8FE0903E12E6    2011-06-07  \n",
       "1  738DC42D-D03B-48A1-9822-F95A67EA7389    2011-06-07  \n",
       "2  D91B9131-18A4-4A11-BC3A-90B6F53E9D74    2011-06-07  \n",
       "3  4A1ECFC0-CC3A-4740-B028-1C50BB48711C    2011-06-07  \n",
       "4  9B1E7A40-6AE0-4AD3-811C-A64951857C4B    2011-06-07  \n",
       "\n",
       "[5 rows x 26 columns]"
      ]
     },
     "execution_count": 36,
     "metadata": {},
     "output_type": "execute_result"
    }
   ],
   "source": [
    "df.head()"
   ]
  },
  {
   "cell_type": "code",
   "execution_count": 37,
   "metadata": {},
   "outputs": [
    {
     "name": "stdout",
     "output_type": "stream",
     "text": [
      "<class 'pandas.core.frame.DataFrame'>\n",
      "RangeIndex: 31465 entries, 0 to 31464\n",
      "Data columns (total 26 columns):\n",
      "SalesOrderID              31465 non-null int64\n",
      "RevisionNumber            31465 non-null int64\n",
      "OrderDate                 31465 non-null datetime64[ns]\n",
      "DueDate                   31465 non-null datetime64[ns]\n",
      "ShipDate                  31465 non-null datetime64[ns]\n",
      "Status                    31465 non-null int64\n",
      "OnlineOrderFlag           31465 non-null bool\n",
      "SalesOrderNumber          31465 non-null object\n",
      "PurchaseOrderNumber       3806 non-null object\n",
      "AccountNumber             31465 non-null object\n",
      "CustomerID                31465 non-null int64\n",
      "SalesPersonID             3806 non-null float64\n",
      "TerritoryID               31465 non-null int64\n",
      "BillToAddressID           31465 non-null int64\n",
      "ShipToAddressID           31465 non-null int64\n",
      "ShipMethodID              31465 non-null int64\n",
      "CreditCardID              30334 non-null float64\n",
      "CreditCardApprovalCode    30334 non-null object\n",
      "CurrencyRateID            13976 non-null float64\n",
      "SubTotal                  31465 non-null float64\n",
      "TaxAmt                    31465 non-null float64\n",
      "Freight                   31465 non-null float64\n",
      "TotalDue                  31465 non-null float64\n",
      "Comment                   0 non-null object\n",
      "rowguid                   31465 non-null object\n",
      "ModifiedDate              31465 non-null datetime64[ns]\n",
      "dtypes: bool(1), datetime64[ns](4), float64(7), int64(8), object(6)\n",
      "memory usage: 6.0+ MB\n"
     ]
    }
   ],
   "source": [
    "df.info()"
   ]
  },
  {
   "cell_type": "markdown",
   "metadata": {},
   "source": [
    "Возьмем OnlineOrderFlag как целевую переменную. Будем определять закажет ли клиент онлайн или через продавца\n",
    "\n",
    "*0 = Order placed by sales person. 1 = Order placed online by customer*"
   ]
  },
  {
   "cell_type": "code",
   "execution_count": 38,
   "metadata": {},
   "outputs": [
    {
     "data": {
      "text/plain": [
       "True     27659\n",
       "False     3806\n",
       "Name: OnlineOrderFlag, dtype: int64"
      ]
     },
     "execution_count": 38,
     "metadata": {},
     "output_type": "execute_result"
    }
   ],
   "source": [
    "df.OnlineOrderFlag.value_counts()"
   ]
  },
  {
   "cell_type": "markdown",
   "metadata": {},
   "source": [
    "Все признаки нам не нужны, выберем несколько для работы"
   ]
  },
  {
   "cell_type": "code",
   "execution_count": 51,
   "metadata": {},
   "outputs": [],
   "source": [
    "df_fa = df[['TerritoryID', 'TotalDue', 'OnlineOrderFlag','Status','SalesPersonID']]"
   ]
  },
  {
   "cell_type": "code",
   "execution_count": 52,
   "metadata": {},
   "outputs": [
    {
     "data": {
      "text/html": [
       "<div>\n",
       "<table border=\"1\" class=\"dataframe\">\n",
       "  <thead>\n",
       "    <tr style=\"text-align: right;\">\n",
       "      <th></th>\n",
       "      <th>TerritoryID</th>\n",
       "      <th>TotalDue</th>\n",
       "      <th>OnlineOrderFlag</th>\n",
       "      <th>Status</th>\n",
       "      <th>SalesPersonID</th>\n",
       "    </tr>\n",
       "  </thead>\n",
       "  <tbody>\n",
       "    <tr>\n",
       "      <th>0</th>\n",
       "      <td>5</td>\n",
       "      <td>23153.2339</td>\n",
       "      <td>False</td>\n",
       "      <td>5</td>\n",
       "      <td>279.0</td>\n",
       "    </tr>\n",
       "    <tr>\n",
       "      <th>1</th>\n",
       "      <td>5</td>\n",
       "      <td>1457.3288</td>\n",
       "      <td>False</td>\n",
       "      <td>5</td>\n",
       "      <td>279.0</td>\n",
       "    </tr>\n",
       "    <tr>\n",
       "      <th>2</th>\n",
       "      <td>6</td>\n",
       "      <td>36865.8012</td>\n",
       "      <td>False</td>\n",
       "      <td>5</td>\n",
       "      <td>282.0</td>\n",
       "    </tr>\n",
       "    <tr>\n",
       "      <th>3</th>\n",
       "      <td>6</td>\n",
       "      <td>32474.9324</td>\n",
       "      <td>False</td>\n",
       "      <td>5</td>\n",
       "      <td>282.0</td>\n",
       "    </tr>\n",
       "    <tr>\n",
       "      <th>4</th>\n",
       "      <td>4</td>\n",
       "      <td>472.3108</td>\n",
       "      <td>False</td>\n",
       "      <td>5</td>\n",
       "      <td>276.0</td>\n",
       "    </tr>\n",
       "  </tbody>\n",
       "</table>\n",
       "</div>"
      ],
      "text/plain": [
       "   TerritoryID    TotalDue OnlineOrderFlag  Status  SalesPersonID\n",
       "0            5  23153.2339           False       5          279.0\n",
       "1            5   1457.3288           False       5          279.0\n",
       "2            6  36865.8012           False       5          282.0\n",
       "3            6  32474.9324           False       5          282.0\n",
       "4            4    472.3108           False       5          276.0"
      ]
     },
     "execution_count": 52,
     "metadata": {},
     "output_type": "execute_result"
    }
   ],
   "source": [
    "df_fa.head()"
   ]
  },
  {
   "cell_type": "code",
   "execution_count": 54,
   "metadata": {
    "collapsed": true
   },
   "outputs": [],
   "source": [
    "df_terr = pd.get_dummies(df_fa['TerritoryID'], drop_first=True, prefix='Territory')\n",
    "df_fa = pd.concat([df_fa.drop('TerritoryID',axis=1),df_terr], axis=1)"
   ]
  },
  {
   "cell_type": "code",
   "execution_count": 55,
   "metadata": {
    "collapsed": true
   },
   "outputs": [],
   "source": [
    "df_Status = pd.get_dummies(df_fa['Status'], drop_first=True, prefix='Status')\n",
    "df_fa = pd.concat([df_fa.drop('Status',axis=1),df_Status], axis=1)"
   ]
  },
  {
   "cell_type": "code",
   "execution_count": 56,
   "metadata": {
    "collapsed": true
   },
   "outputs": [],
   "source": [
    "df_SP = pd.get_dummies(df_fa['SalesPersonID'], drop_first=True, prefix='Status')\n",
    "df_fa = pd.concat([df_fa.drop('SalesPersonID',axis=1),df_SP], axis=1)"
   ]
  },
  {
   "cell_type": "code",
   "execution_count": 58,
   "metadata": {
    "collapsed": true
   },
   "outputs": [],
   "source": [
    "def data_split_train_test(data, test_size=0.3):\n",
    "    X_train, X_test, y_train, y_test = train_test_split(\n",
    "    data.drop(labels=['OnlineOrderFlag'], axis=1),\n",
    "    data['OnlineOrderFlag'],\n",
    "    test_size=test_size,\n",
    "    stratify=data['OnlineOrderFlag'],\n",
    "    random_state=0)\n",
    "\n",
    "    print(\"Train_shape:\", X_train.shape, \"Test shape:\", X_test.shape)\n",
    "    \n",
    "    return X_train, X_test, y_train, y_test"
   ]
  },
  {
   "cell_type": "code",
   "execution_count": 59,
   "metadata": {},
   "outputs": [
    {
     "name": "stdout",
     "output_type": "stream",
     "text": [
      "Train_shape: (22025, 26) Test shape: (9440, 26)\n"
     ]
    }
   ],
   "source": [
    "X_train, X_test, y_train, y_test = data_split_train_test(df_fa)"
   ]
  },
  {
   "cell_type": "code",
   "execution_count": 63,
   "metadata": {},
   "outputs": [
    {
     "data": {
      "text/plain": [
       "LogisticRegression(C=1.0, class_weight=None, dual=False, fit_intercept=True,\n",
       "          intercept_scaling=1, max_iter=100, multi_class='ovr', n_jobs=1,\n",
       "          penalty='l2', random_state=None, solver='liblinear', tol=0.0001,\n",
       "          verbose=0, warm_start=False)"
      ]
     },
     "execution_count": 63,
     "metadata": {},
     "output_type": "execute_result"
    }
   ],
   "source": [
    "log_reg = LogisticRegression()\n",
    "\n",
    "log_reg.fit(X_train, y_train)"
   ]
  },
  {
   "cell_type": "code",
   "execution_count": 64,
   "metadata": {
    "collapsed": true
   },
   "outputs": [],
   "source": [
    "from sklearn.metrics import accuracy_score, precision_score, recall_score, f1_score\n",
    "\n",
    "def print_quality_report(prediction, actual):\n",
    "    Accuracy = accuracy_score(prediction, actual)\n",
    "    Precision = precision_score(prediction, actual)\n",
    "    Recall = recall_score(prediction, actual)\n",
    "    F1 = f1_score(prediction, actual)\n",
    "        \n",
    "    quality_list = [Accuracy, Precision, Recall, F1]\n",
    "    \n",
    "    return quality_list"
   ]
  },
  {
   "cell_type": "code",
   "execution_count": 65,
   "metadata": {},
   "outputs": [
    {
     "data": {
      "text/html": [
       "<div>\n",
       "<table border=\"1\" class=\"dataframe\">\n",
       "  <thead>\n",
       "    <tr style=\"text-align: right;\">\n",
       "      <th></th>\n",
       "      <th>Accuracy</th>\n",
       "      <th>Precision</th>\n",
       "      <th>Recall</th>\n",
       "      <th>F1 score</th>\n",
       "    </tr>\n",
       "  </thead>\n",
       "  <tbody>\n",
       "    <tr>\n",
       "      <th>Logistic Regression Train</th>\n",
       "      <td>0.997</td>\n",
       "      <td>1.0</td>\n",
       "      <td>0.997</td>\n",
       "      <td>0.999</td>\n",
       "    </tr>\n",
       "    <tr>\n",
       "      <th>Logistic Regression Test</th>\n",
       "      <td>0.997</td>\n",
       "      <td>1.0</td>\n",
       "      <td>0.996</td>\n",
       "      <td>0.998</td>\n",
       "    </tr>\n",
       "  </tbody>\n",
       "</table>\n",
       "</div>"
      ],
      "text/plain": [
       "                           Accuracy  Precision  Recall   F1 score\n",
       "Logistic Regression Train     0.997        1.0   0.997      0.999\n",
       "Logistic Regression Test      0.997        1.0   0.996      0.998"
      ]
     },
     "execution_count": 65,
     "metadata": {},
     "output_type": "execute_result"
    }
   ],
   "source": [
    "quality_list_lr = print_quality_report(log_reg.predict(X_train), y_train)\n",
    "\n",
    "df_quality = pd.DataFrame(\n",
    "    [quality_list_lr],\n",
    "    columns=[\"Accuracy\", \"Precision\", \"Recall\",\" F1 score\"],\n",
    "    index=[\"Logistic Regression Train\"])\n",
    "\n",
    "df_quality.loc[\"Logistic Regression Test\", :] = print_quality_report(log_reg.predict(X_test), y_test)\n",
    "\n",
    "df_quality.round(3)"
   ]
  },
  {
   "cell_type": "code",
   "execution_count": 66,
   "metadata": {
    "collapsed": true
   },
   "outputs": [],
   "source": [
    "conn.close()"
   ]
  },
  {
   "cell_type": "markdown",
   "metadata": {
    "collapsed": true
   },
   "source": [
    "Мы получили очень хорошие результаты по прогнозу будет ли клиент заказывать онлайн"
   ]
  }
 ],
 "metadata": {
  "kernelspec": {
   "display_name": "Python 3",
   "language": "python",
   "name": "python3"
  },
  "language_info": {
   "codemirror_mode": {
    "name": "ipython",
    "version": 3
   },
   "file_extension": ".py",
   "mimetype": "text/x-python",
   "name": "python",
   "nbconvert_exporter": "python",
   "pygments_lexer": "ipython3",
   "version": "3.5.2"
  }
 },
 "nbformat": 4,
 "nbformat_minor": 1
}
